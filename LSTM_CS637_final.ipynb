{
  "nbformat": 4,
  "nbformat_minor": 0,
  "metadata": {
    "colab": {
      "provenance": []
    },
    "kernelspec": {
      "name": "python3",
      "display_name": "Python 3"
    },
    "language_info": {
      "name": "python"
    }
  },
  "cells": [
    {
      "cell_type": "code",
      "source": [
        "import pandas as pd\n",
        "import torch\n",
        "import torch.nn as nn\n",
        "import torch.optim as optim\n",
        "from torch.utils.data import DataLoader, TensorDataset\n",
        "from sklearn.model_selection import train_test_split\n",
        "import torch.nn.functional as F\n",
        "\n",
        "class Attn(nn.Module):\n",
        "    def __init__(self, h_dim):\n",
        "        super(Attn, self).__init__()\n",
        "        self.h_dim = h_dim\n",
        "        self.main = nn.Sequential(\n",
        "            nn.Linear(h_dim, 24),\n",
        "            nn.ReLU(True),\n",
        "            nn.Linear(24, 1)\n",
        "        )\n",
        "\n",
        "    def forward(self, encoder_outputs):\n",
        "        b_size = encoder_outputs.size(0)\n",
        "        attn_ene = self.main(encoder_outputs.view(-1, self.h_dim)) # (b, s, h) -> (b * s, 1)\n",
        "        return F.softmax(attn_ene.view(b_size, -1), dim=1).unsqueeze(2) # (b*s, 1) -> (b, s, 1)\n",
        "\n",
        "class AttnClassifier(nn.Module):\n",
        "    def __init__(self, h_dim, c_num):\n",
        "        super(AttnClassifier, self).__init__()\n",
        "        self.attn = Attn(h_dim)\n",
        "        self.main = nn.Linear(h_dim, c_num)\n",
        "\n",
        "    def forward(self, encoder_outputs):\n",
        "        attns = self.attn(encoder_outputs) #(b, s, 1)\n",
        "        feats = (encoder_outputs * attns).sum(dim=1) # (b, s, h) -> (b, h)\n",
        "        return F.log_softmax(self.main(feats)), attns\n",
        "\n",
        "class Predictor(nn.Module):\n",
        "    def __init__(self, input_size, hidden_size, output_size, num_layers, seq_length):\n",
        "        super(Predictor, self).__init__()\n",
        "        self.embedding_layer = nn.Linear(input_size, 128)\n",
        "        self.encoder = nn.LSTM(128, hidden_size, num_layers, batch_first=True)\n",
        "        self.attn_classifier = AttnClassifier(hidden_size, output_size)\n",
        "        self.decoder = nn.LSTM(128, hidden_size, num_layers, batch_first=True)\n",
        "        self.output_layer = nn.Linear(hidden_size, output_size)\n",
        "        self.seq_length = seq_length\n",
        "\n",
        "    def forward(self, x):\n",
        "        embedded = self.embedding_layer(x)\n",
        "        # print(embedded)\n",
        "        encoder_output, (encoder_hidden, _) = self.encoder(embedded)\n",
        "        attention_output, attns = self.attn_classifier(encoder_output)\n",
        "        # print(\"attn_logits\", attn_logits.shape)\n",
        "        # print(encoder_hidden.shape)\n",
        "        decoder_output, _ = self.decoder(attention_output)\n",
        "        predicted_output = self.output_layer(decoder_output)\n",
        "        # decoder_input = torch.cat((attn_logits, encoder_hidden[-1].unsqueeze(0).repeat(self.seq_length, 1, 1)), dim=-1)\n",
        "        # print(attn_logits.shape)\n",
        "\n",
        "        return predicted_output\n",
        "\n",
        "# Load CSV data\n",
        "df = pd.read_csv('train_part.csv')\n",
        "df = df.fillna(0)\n",
        "\n",
        "# Assuming you want to predict 'Label', you can split the data into features (X) and labels (y)\n",
        "X = df[['Signal1', 'Signal2', 'Signal3', 'Signal4']].values\n",
        "y = df['Label'].values\n",
        "\n",
        "# Split the data into training and testing sets\n",
        "X_train, X_test, y_train, y_test = train_test_split(X, y, test_size=0.2, random_state=42)\n",
        "\n",
        "# Convert NumPy arrays to PyTorch tensors\n",
        "X_train_tensor = torch.tensor(X_train, dtype=torch.float32)\n",
        "y_train_tensor = torch.tensor(y_train, dtype=torch.float32)\n",
        "X_test_tensor = torch.tensor(X_test, dtype=torch.float32)\n",
        "y_test_tensor = torch.tensor(y_test, dtype=torch.float32)\n",
        "\n",
        "# Create DataLoader for training and testing\n",
        "batch_size = 64\n",
        "train_dataset = TensorDataset(X_train_tensor, y_train_tensor)\n",
        "train_loader = DataLoader(train_dataset, batch_size=batch_size, shuffle=True, drop_last = True)\n",
        "\n",
        "test_dataset = TensorDataset(X_test_tensor, y_test_tensor)\n",
        "test_loader = DataLoader(test_dataset, batch_size=batch_size, shuffle=False, drop_last = True)\n",
        "\n",
        "# Instantiate the Predictor model\n",
        "input_size = 4  # Assuming 4 Signal columns in your data\n",
        "hidden_size = 64\n",
        "output_size = 4  # Assuming you want to predict a single label\n",
        "num_layers = 2\n",
        "seq_length = 10  # Adjust according to your data\n",
        "\n",
        "predictor_model = Predictor(input_size, hidden_size, output_size, num_layers, seq_length)\n",
        "\n",
        "# Define loss function and optimizer\n",
        "criterion = nn.MSELoss()\n",
        "optimizer = optim.Adam(predictor_model.parameters(), lr=0.001)\n",
        "\n",
        "# Training loop\n",
        "num_epochs = 10\n",
        "for epoch in range(num_epochs):\n",
        "    predictor_model.train()\n",
        "    total_loss = 0\n",
        "\n",
        "    for inputs, labels in train_loader:\n",
        "        # Forward pass\n",
        "        outputs= predictor_model(inputs)\n",
        "\n",
        "        loss = criterion(outputs, inputs)\n",
        "\n",
        "        # Backward and optimize\n",
        "        optimizer.zero_grad()\n",
        "        loss.backward()\n",
        "        optimizer.step()\n",
        "\n",
        "        total_loss += loss.item()\n",
        "\n",
        "    print(f'Epoch {epoch+1}/{num_epochs}, Loss: {total_loss/len(train_loader)}')\n",
        "\n",
        "# Testing loop\n",
        "predictor_model.eval()\n",
        "test_loss = 0\n",
        "\n",
        "with torch.no_grad():\n",
        "    for inputs, labels in test_loader:\n",
        "        outputs = predictor_model(inputs)\n",
        "        test_loss += criterion(outputs, inputs).item()\n",
        "\n",
        "average_test_loss = test_loss / len(test_loader)\n",
        "print(f'Average Test Loss: {average_test_loss}')\n"
      ],
      "metadata": {
        "colab": {
          "base_uri": "https://localhost:8080/"
        },
        "id": "6I-kMoaWHFng",
        "outputId": "18209929-f28c-47c1-e71d-3662f2e2c89d"
      },
      "execution_count": null,
      "outputs": [
        {
          "output_type": "stream",
          "name": "stderr",
          "text": [
            "<ipython-input-37-258daa63f81c>:33: UserWarning: Implicit dimension choice for log_softmax has been deprecated. Change the call to include dim=X as an argument.\n",
            "  return F.log_softmax(self.main(feats)), attns\n"
          ]
        },
        {
          "output_type": "stream",
          "name": "stdout",
          "text": [
            "Epoch 1/10, Loss: 0.16398479044437408\n",
            "Epoch 2/10, Loss: 0.09632661007344723\n",
            "Epoch 3/10, Loss: 0.08484400622546673\n",
            "Epoch 4/10, Loss: 0.08514694310724735\n",
            "Epoch 5/10, Loss: 0.08286971226334572\n",
            "Epoch 6/10, Loss: 0.08160734362900257\n",
            "Epoch 7/10, Loss: 0.08301303721964359\n",
            "Epoch 8/10, Loss: 0.08213127963244915\n",
            "Epoch 9/10, Loss: 0.08184721320867538\n",
            "Epoch 10/10, Loss: 0.08211404457688332\n",
            "Average Test Loss: 0.07942967116832733\n"
          ]
        }
      ]
    },
    {
      "cell_type": "code",
      "source": [
        "import numpy as np\n",
        "from sklearn.svm import OneClassSVM\n",
        "from sklearn.preprocessing import StandardScaler\n",
        "\n",
        "# Function to compute deviations using the trained predictor_model\n",
        "def compute_deviations(model, data_loader):\n",
        "    model.eval()\n",
        "    deviations = []\n",
        "\n",
        "    with torch.no_grad():\n",
        "        for inputs, labels in data_loader:\n",
        "            outputs = model(inputs)\n",
        "            deviation = torch.abs(outputs - inputs)\n",
        "            # print(deviation.shape)\n",
        "            deviations.extend(deviation.numpy())\n",
        "\n",
        "    return deviations\n",
        "\n",
        "# Compute deviations for training and test data\n",
        "train_deviations = compute_deviations(predictor_model, train_loader)\n",
        "# print(train_deviations)\n",
        "# print(\"Test\")\n",
        "test_deviations = compute_deviations(predictor_model, test_loader)\n",
        "\n",
        "\n",
        "# Scale deviations using StandardScaler\n",
        "scaler = StandardScaler()\n",
        "scaled_train_deviations = scaler.fit_transform(train_deviations)\n",
        "scaled_test_deviations = scaler.transform(test_deviations)\n",
        "\n",
        "# Train OCSVM\n",
        "ocsvm_model = OneClassSVM(kernel='rbf', nu=0.1)  # You might need to adjust the hyperparameters\n",
        "ocsvm_model.fit(scaled_train_deviations)\n",
        "\n",
        "# Predict anomalies using the trained OCSVM\n",
        "anomaly_predictions = ocsvm_model.predict(scaled_test_deviations)\n",
        "\n",
        "\n",
        "true_labels = [1] * 64\n",
        "true_labels = np.array(true_labels)\n",
        "\n",
        "\n",
        "# Evaluate the performance of anomaly detection (you might need to adjust based on your evaluation metric)\n",
        "accuracy = np.mean(anomaly_predictions == true_labels)\n",
        "print(f'Anomaly Detection Accuracy: {accuracy * 100:.2f}%')\n"
      ],
      "metadata": {
        "colab": {
          "base_uri": "https://localhost:8080/"
        },
        "id": "PX7IhGc7kf0I",
        "outputId": "470f3c07-7356-46a3-c5b3-8178217bcf8a"
      },
      "execution_count": null,
      "outputs": [
        {
          "output_type": "stream",
          "name": "stdout",
          "text": [
            "Anomaly Detection Accuracy: 85.94%\n"
          ]
        },
        {
          "output_type": "stream",
          "name": "stderr",
          "text": [
            "<ipython-input-37-258daa63f81c>:33: UserWarning: Implicit dimension choice for log_softmax has been deprecated. Change the call to include dim=X as an argument.\n",
            "  return F.log_softmax(self.main(feats)), attns\n"
          ]
        }
      ]
    },
    {
      "cell_type": "code",
      "source": [
        "\n"
      ],
      "metadata": {
        "id": "k5JA7-IWrSzP"
      },
      "execution_count": null,
      "outputs": []
    },
    {
      "cell_type": "markdown",
      "source": [
        "#### Testing"
      ],
      "metadata": {
        "id": "XicbmBcw3Gxz"
      }
    },
    {
      "cell_type": "code",
      "source": [
        "# Load test data\n",
        "test_df = pd.read_csv('test_part.csv')\n",
        "test_df = test_df.fillna(0)\n",
        "\n",
        "# Extract features and labels\n",
        "X_test_new = test_df[['Signal1_of_ID', 'Signal2_of_ID', 'Signal3_of_ID', 'Signal4_of_ID']].values\n",
        "y_test_new = test_df['Label'].values\n",
        "\n",
        "# Convert NumPy arrays to PyTorch tensors\n",
        "X_test_new_tensor = torch.tensor(X_test_new, dtype=torch.float32)\n",
        "y_test_new_tensor = torch.tensor(y_test_new, dtype=torch.float32)\n",
        "\n",
        "# Create DataLoader for the new test data\n",
        "new_test_dataset = TensorDataset(X_test_new_tensor, y_test_new_tensor)\n",
        "new_test_loader = DataLoader(new_test_dataset, batch_size=batch_size, shuffle=False)\n"
      ],
      "metadata": {
        "id": "zKmuZtMZ3H_i"
      },
      "execution_count": null,
      "outputs": []
    },
    {
      "cell_type": "code",
      "source": [
        "# Compute deviations for the new test data\n",
        "new_test_deviations = compute_deviations(predictor_model, new_test_loader)\n",
        "\n",
        "# Scale deviations using StandardScaler\n",
        "scaled_new_test_deviations = scaler.transform(new_test_deviations)\n",
        "\n",
        "# Predict anomalies using the trained OCSVM\n",
        "new_anomaly_predictions = ocsvm_model.predict(scaled_new_test_deviations)\n",
        "\n",
        "\n",
        "# Assuming y_test_new_tensor is a binary label indicating normal (0) or anomaly (1)\n",
        "true_labels_new = y_test_new_tensor.numpy()\n",
        "\n",
        "true_labels_new = 1 - 2 * true_labels_new\n",
        "\n",
        "# Evaluate the performance of anomaly detection\n",
        "accuracy_new = np.mean(new_anomaly_predictions == true_labels_new)\n",
        "print(f'Anomaly Detection Accuracy on New Test Data: {accuracy_new * 100:.2f}%')\n",
        "\n"
      ],
      "metadata": {
        "colab": {
          "base_uri": "https://localhost:8080/"
        },
        "id": "GCgA-UEM3O8D",
        "outputId": "1b43afc6-dcc0-4459-f915-b00ed20e06d7"
      },
      "execution_count": null,
      "outputs": [
        {
          "output_type": "stream",
          "name": "stdout",
          "text": [
            "Anomaly Detection Accuracy on New Test Data: 61.63%\n"
          ]
        },
        {
          "output_type": "stream",
          "name": "stderr",
          "text": [
            "<ipython-input-37-258daa63f81c>:33: UserWarning: Implicit dimension choice for log_softmax has been deprecated. Change the call to include dim=X as an argument.\n",
            "  return F.log_softmax(self.main(feats)), attns\n"
          ]
        }
      ]
    },
    {
      "cell_type": "code",
      "source": [
        "\n"
      ],
      "metadata": {
        "id": "lrqHObn53bJq"
      },
      "execution_count": null,
      "outputs": []
    },
    {
      "cell_type": "code",
      "source": [],
      "metadata": {
        "id": "lbXkOodP0mOF"
      },
      "execution_count": null,
      "outputs": []
    }
  ]
}